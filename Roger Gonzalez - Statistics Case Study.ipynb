{
 "cells": [
  {
   "cell_type": "markdown",
   "metadata": {
    "id": "zjHubf6uRuiu"
   },
   "source": [
    "# Statistical case study"
   ]
  },
  {
   "cell_type": "markdown",
   "metadata": {
    "id": "nrOU4mw7RykO"
   },
   "source": [
    "## Roger Gonzalez Sanchez"
   ]
  },
  {
   "cell_type": "markdown",
   "metadata": {
    "jp-MarkdownHeadingCollapsed": true
   },
   "source": [
    "## 🧪 Introduction\n",
    "This project presents a complete statistical analysis of the effect of glucose intake on blood glucose levels in a group of adults. The work is structured into three main parts, each focusing on a different analytical approach:\n",
    "\n",
    "1. Exercise 1 – Descriptive Analysis: We begin with a thorough exploratory data analysis, where we examine key metrics such as mean, median, standard deviation, and distribution shapes to better understand the underlying dataset. Visualization tools like Seaborn and Matplotlib are used to represent data trends and distributions.\n",
    "2. Exercise 2 – Linear Regression Modeling: We build and interpret a simple linear regression model to assess the relationship between baseline glucose levels and those measured after 60 minutes. Key regression metrics such as R², coefficients, and residuals are analyzed to evaluate the model's predictive power and assumptions.\n",
    "3. Exercise 3 – Inferential Statistics: A more formal hypothesis testing framework is applied here to assess whether there is a statistically significant difference in glucose levels before and after intake. Depending on the sample size and information available, the script automatically applies either a paired t-test or a z-test, and allows for both one-tailed and two-tailed testing.\n",
    "\n",
    "\n",
    "The analysis was performed using Python in a Jupyter Notebook, utilizing a range of scientific and statistical libraries:\n",
    "\n",
    "- Pandas and NumPy for data handling,\n",
    "- SciPy for statistical tests and critical value computations,\n",
    "- Seaborn and Matplotlib for visual representation of results.\n",
    "\n",
    "Overall, the project combines descriptive statistics, predictive modeling, and inferential testing to provide a comprehensive view of how glucose levels change in response to intake — both visually and analytically.\n",
    "\n",
    "*Note: Make sure to download both this notebook and the dataset_glucose.xlsx file, and place them in the same folder (directory) so the code can run properly.*"
   ]
  },
  {
   "cell_type": "markdown",
   "metadata": {
    "id": "VET61wOaR2D5",
    "jp-MarkdownHeadingCollapsed": true
   },
   "source": [
    "## Importing modules and loading the dataframe"
   ]
  },
  {
   "cell_type": "code",
   "execution_count": 265,
   "metadata": {},
   "outputs": [],
   "source": [
    "#!pip install openpyxl"
   ]
  },
  {
   "cell_type": "code",
   "execution_count": 268,
   "metadata": {
    "id": "dzdRMAuVV1kg"
   },
   "outputs": [],
   "source": [
    "import pandas as pd\n",
    "import matplotlib.pyplot as plt\n",
    "import openpyxl\n",
    "import numpy as np\n",
    "import scipy.stats as stats\n",
    "import statsmodels.api as sm\n",
    "\n"
   ]
  },
  {
   "cell_type": "code",
   "execution_count": 269,
   "metadata": {
    "id": "sKlEzmdlWKUE"
   },
   "outputs": [],
   "source": [
    "df = pd.read_excel(\n",
    "    \"dataset_glucose.xlsx\"\n",
    ")\n"
   ]
  },
  {
   "cell_type": "code",
   "execution_count": 270,
   "metadata": {
    "colab": {
     "base_uri": "https://localhost:8080/",
     "height": 424
    },
    "id": "Datz5gyrWYf1",
    "outputId": "8d6c8b69-be52-4992-95fb-db2c371c32f8"
   },
   "outputs": [
    {
     "data": {
      "text/html": [
       "<div>\n",
       "<style scoped>\n",
       "    .dataframe tbody tr th:only-of-type {\n",
       "        vertical-align: middle;\n",
       "    }\n",
       "\n",
       "    .dataframe tbody tr th {\n",
       "        vertical-align: top;\n",
       "    }\n",
       "\n",
       "    .dataframe thead th {\n",
       "        text-align: right;\n",
       "    }\n",
       "</style>\n",
       "<table border=\"1\" class=\"dataframe\">\n",
       "  <thead>\n",
       "    <tr style=\"text-align: right;\">\n",
       "      <th></th>\n",
       "      <th>Control group</th>\n",
       "      <th>Fasting glucose level</th>\n",
       "      <th>Glucose level at 60 min</th>\n",
       "    </tr>\n",
       "  </thead>\n",
       "  <tbody>\n",
       "    <tr>\n",
       "      <th>0</th>\n",
       "      <td>1</td>\n",
       "      <td>90</td>\n",
       "      <td>159</td>\n",
       "    </tr>\n",
       "    <tr>\n",
       "      <th>1</th>\n",
       "      <td>1</td>\n",
       "      <td>82</td>\n",
       "      <td>151</td>\n",
       "    </tr>\n",
       "    <tr>\n",
       "      <th>2</th>\n",
       "      <td>1</td>\n",
       "      <td>80</td>\n",
       "      <td>148</td>\n",
       "    </tr>\n",
       "    <tr>\n",
       "      <th>3</th>\n",
       "      <td>1</td>\n",
       "      <td>75</td>\n",
       "      <td>138</td>\n",
       "    </tr>\n",
       "    <tr>\n",
       "      <th>4</th>\n",
       "      <td>1</td>\n",
       "      <td>74</td>\n",
       "      <td>141</td>\n",
       "    </tr>\n",
       "  </tbody>\n",
       "</table>\n",
       "</div>"
      ],
      "text/plain": [
       "   Control group  Fasting glucose level  Glucose level at 60 min\n",
       "0              1                     90                      159\n",
       "1              1                     82                      151\n",
       "2              1                     80                      148\n",
       "3              1                     75                      138\n",
       "4              1                     74                      141"
      ]
     },
     "execution_count": 270,
     "metadata": {},
     "output_type": "execute_result"
    }
   ],
   "source": [
    "df.head()"
   ]
  },
  {
   "cell_type": "code",
   "execution_count": 271,
   "metadata": {
    "colab": {
     "base_uri": "https://localhost:8080/",
     "height": 206
    },
    "id": "NDEpepIAW74Y",
    "outputId": "873ebfe0-1643-428d-9266-0f8e567b29e0"
   },
   "outputs": [
    {
     "data": {
      "text/html": [
       "<div>\n",
       "<style scoped>\n",
       "    .dataframe tbody tr th:only-of-type {\n",
       "        vertical-align: middle;\n",
       "    }\n",
       "\n",
       "    .dataframe tbody tr th {\n",
       "        vertical-align: top;\n",
       "    }\n",
       "\n",
       "    .dataframe thead th {\n",
       "        text-align: right;\n",
       "    }\n",
       "</style>\n",
       "<table border=\"1\" class=\"dataframe\">\n",
       "  <thead>\n",
       "    <tr style=\"text-align: right;\">\n",
       "      <th></th>\n",
       "      <th>Control group</th>\n",
       "      <th>Fasting glucose level</th>\n",
       "      <th>Glucose level at 60 min</th>\n",
       "    </tr>\n",
       "  </thead>\n",
       "  <tbody>\n",
       "    <tr>\n",
       "      <th>0</th>\n",
       "      <td>1</td>\n",
       "      <td>90</td>\n",
       "      <td>159</td>\n",
       "    </tr>\n",
       "    <tr>\n",
       "      <th>1</th>\n",
       "      <td>1</td>\n",
       "      <td>82</td>\n",
       "      <td>151</td>\n",
       "    </tr>\n",
       "    <tr>\n",
       "      <th>2</th>\n",
       "      <td>1</td>\n",
       "      <td>80</td>\n",
       "      <td>148</td>\n",
       "    </tr>\n",
       "    <tr>\n",
       "      <th>3</th>\n",
       "      <td>1</td>\n",
       "      <td>75</td>\n",
       "      <td>138</td>\n",
       "    </tr>\n",
       "    <tr>\n",
       "      <th>4</th>\n",
       "      <td>1</td>\n",
       "      <td>74</td>\n",
       "      <td>141</td>\n",
       "    </tr>\n",
       "  </tbody>\n",
       "</table>\n",
       "</div>"
      ],
      "text/plain": [
       "   Control group  Fasting glucose level  Glucose level at 60 min\n",
       "0              1                     90                      159\n",
       "1              1                     82                      151\n",
       "2              1                     80                      148\n",
       "3              1                     75                      138\n",
       "4              1                     74                      141"
      ]
     },
     "execution_count": 271,
     "metadata": {},
     "output_type": "execute_result"
    }
   ],
   "source": [
    "control_group1 = df[df[\"Control group\"] == 1]\n",
    "control_group1.head()"
   ]
  },
  {
   "cell_type": "code",
   "execution_count": 272,
   "metadata": {
    "colab": {
     "base_uri": "https://localhost:8080/",
     "height": 206
    },
    "id": "BWq_JzIHXEe9",
    "outputId": "f48a8f08-335a-4560-90c9-24758b32c604"
   },
   "outputs": [
    {
     "data": {
      "text/html": [
       "<div>\n",
       "<style scoped>\n",
       "    .dataframe tbody tr th:only-of-type {\n",
       "        vertical-align: middle;\n",
       "    }\n",
       "\n",
       "    .dataframe tbody tr th {\n",
       "        vertical-align: top;\n",
       "    }\n",
       "\n",
       "    .dataframe thead th {\n",
       "        text-align: right;\n",
       "    }\n",
       "</style>\n",
       "<table border=\"1\" class=\"dataframe\">\n",
       "  <thead>\n",
       "    <tr style=\"text-align: right;\">\n",
       "      <th></th>\n",
       "      <th>Control group</th>\n",
       "      <th>Fasting glucose level</th>\n",
       "      <th>Glucose level at 60 min</th>\n",
       "    </tr>\n",
       "  </thead>\n",
       "  <tbody>\n",
       "    <tr>\n",
       "      <th>35</th>\n",
       "      <td>2</td>\n",
       "      <td>94</td>\n",
       "      <td>180</td>\n",
       "    </tr>\n",
       "    <tr>\n",
       "      <th>36</th>\n",
       "      <td>2</td>\n",
       "      <td>96</td>\n",
       "      <td>166</td>\n",
       "    </tr>\n",
       "    <tr>\n",
       "      <th>37</th>\n",
       "      <td>2</td>\n",
       "      <td>93</td>\n",
       "      <td>190</td>\n",
       "    </tr>\n",
       "    <tr>\n",
       "      <th>38</th>\n",
       "      <td>2</td>\n",
       "      <td>88</td>\n",
       "      <td>174</td>\n",
       "    </tr>\n",
       "    <tr>\n",
       "      <th>39</th>\n",
       "      <td>2</td>\n",
       "      <td>79</td>\n",
       "      <td>156</td>\n",
       "    </tr>\n",
       "  </tbody>\n",
       "</table>\n",
       "</div>"
      ],
      "text/plain": [
       "    Control group  Fasting glucose level  Glucose level at 60 min\n",
       "35              2                     94                      180\n",
       "36              2                     96                      166\n",
       "37              2                     93                      190\n",
       "38              2                     88                      174\n",
       "39              2                     79                      156"
      ]
     },
     "execution_count": 272,
     "metadata": {},
     "output_type": "execute_result"
    }
   ],
   "source": [
    "control_group2 = df[df[\"Control group\"] == 2]\n",
    "control_group2.head()"
   ]
  },
  {
   "cell_type": "markdown",
   "metadata": {
    "id": "nSWOT2JhXxgT",
    "jp-MarkdownHeadingCollapsed": true
   },
   "source": [
    "# MEASURES OF CENTRAL TENDENCY"
   ]
  },
  {
   "cell_type": "code",
   "execution_count": 196,
   "metadata": {
    "colab": {
     "base_uri": "https://localhost:8080/"
    },
    "id": "j42fbxSPXtH4",
    "outputId": "4bb3336e-cecd-4e5e-e8ef-a0119ea13132"
   },
   "outputs": [
    {
     "data": {
      "text/plain": [
       "84.68571428571428"
      ]
     },
     "execution_count": 196,
     "metadata": {},
     "output_type": "execute_result"
    }
   ],
   "source": [
    "# Mean of group 1 - fasting glucose level\n",
    "mean_group1_fasting = control_group1[\"Fasting glucose level\"].mean()\n",
    "mean_group1_fasting"
   ]
  },
  {
   "cell_type": "code",
   "execution_count": 197,
   "metadata": {
    "colab": {
     "base_uri": "https://localhost:8080/"
    },
    "id": "nTT_fR0EYFkb",
    "outputId": "cc62e196-96fc-43d5-c14c-1071d0d66e05"
   },
   "outputs": [
    {
     "data": {
      "text/plain": [
       "89.4"
      ]
     },
     "execution_count": 197,
     "metadata": {},
     "output_type": "execute_result"
    }
   ],
   "source": [
    "# Mean of group 2 - fasting glucose level\n",
    "mean_group2_fasting = control_group2[\"Fasting glucose level\"].mean()\n",
    "mean_group2_fasting"
   ]
  },
  {
   "cell_type": "code",
   "execution_count": 198,
   "metadata": {
    "colab": {
     "base_uri": "https://localhost:8080/"
    },
    "id": "aKUfFOyxYkFJ",
    "outputId": "a01a580a-8479-44e1-cf29-1659f421797e"
   },
   "outputs": [
    {
     "data": {
      "text/plain": [
       "82.0"
      ]
     },
     "execution_count": 198,
     "metadata": {},
     "output_type": "execute_result"
    }
   ],
   "source": [
    "# Median of group 1 - fasting glucose level\n",
    "median_group1_fasting = control_group1[\"Fasting glucose level\"].median()\n",
    "median_group1_fasting\n"
   ]
  },
  {
   "cell_type": "code",
   "execution_count": 199,
   "metadata": {
    "colab": {
     "base_uri": "https://localhost:8080/"
    },
    "id": "qnuMBmN8Yj_X",
    "outputId": "35da5bbe-b6d4-400d-a72c-dc3714faeb6b"
   },
   "outputs": [
    {
     "data": {
      "text/plain": [
       "90.0"
      ]
     },
     "execution_count": 199,
     "metadata": {},
     "output_type": "execute_result"
    }
   ],
   "source": [
    "# Median of group 2 - fasting glucose level\n",
    "median_group2_fasting = control_group2[\"Fasting glucose level\"].median()\n",
    "median_group2_fasting"
   ]
  },
  {
   "cell_type": "code",
   "execution_count": 200,
   "metadata": {
    "colab": {
     "base_uri": "https://localhost:8080/",
     "height": 281
    },
    "id": "wtOSAracYP5W",
    "outputId": "a61f47f0-b1a6-4838-ca8c-d440746c5859"
   },
   "outputs": [
    {
     "data": {
      "text/plain": [
       "[75, 79, 82, 90]"
      ]
     },
     "execution_count": 200,
     "metadata": {},
     "output_type": "execute_result"
    }
   ],
   "source": [
    "# Mode of group 1 - fasting glucose level\n",
    "mode_group1_fasting = control_group1[\"Fasting glucose level\"].mode()\n",
    "mode_group1_fasting.to_list()"
   ]
  },
  {
   "cell_type": "code",
   "execution_count": 201,
   "metadata": {
    "colab": {
     "base_uri": "https://localhost:8080/",
     "height": 188
    },
    "id": "P-m5_uu6YT_Z",
    "outputId": "d88ccab7-a9f1-49ec-e654-88b24ba2af74"
   },
   "outputs": [
    {
     "data": {
      "text/plain": [
       "[88]"
      ]
     },
     "execution_count": 201,
     "metadata": {},
     "output_type": "execute_result"
    }
   ],
   "source": [
    "# Mode of group 2 - fasting glucose level\n",
    "mode_group2_fasting = control_group2[\"Fasting glucose level\"].mode()\n",
    "mode_group2_fasting.to_list()"
   ]
  },
  {
   "cell_type": "code",
   "execution_count": 202,
   "metadata": {
    "id": "rY9tzbyhYZ3J"
   },
   "outputs": [],
   "source": [
    "central_tendency_measures = pd.DataFrame(\n",
    "    {\n",
    "        \"Control Group\": [\"1\", \"2\"],\n",
    "        \"Mean\": [round(mean_group1_fasting, 2), round(mean_group2_fasting, 2)],\n",
    "        \"Median\": [round(median_group1_fasting, 2), round(median_group2_fasting, 2)],\n",
    "        \"Mode\": [mode_group1_fasting, mode_group2_fasting]\n",
    "    })"
   ]
  },
  {
   "cell_type": "markdown",
   "metadata": {
    "id": "3XQVYpyJZqPC",
    "jp-MarkdownHeadingCollapsed": true
   },
   "source": [
    "# MEASURES OF DISPERSION"
   ]
  },
  {
   "cell_type": "code",
   "execution_count": 203,
   "metadata": {
    "colab": {
     "base_uri": "https://localhost:8080/"
    },
    "id": "BnLTEr5eZsO_",
    "outputId": "71b31013-b47e-4b2b-8b99-12b90cbc67a5"
   },
   "outputs": [
    {
     "data": {
      "text/plain": [
       "38"
      ]
     },
     "execution_count": 203,
     "metadata": {},
     "output_type": "execute_result"
    }
   ],
   "source": [
    "#Range of group 1 - fasting glucose level\n",
    "range_group1_fasting = control_group1[\"Fasting glucose level\"].max() - control_group1[\"Fasting glucose level\"].min()\n",
    "range_group1_fasting\n"
   ]
  },
  {
   "cell_type": "code",
   "execution_count": 204,
   "metadata": {
    "colab": {
     "base_uri": "https://localhost:8080/"
    },
    "id": "4WgSD1nNZ1V4",
    "outputId": "ee96f7c8-d205-4f46-a56b-16085c4e2ea5"
   },
   "outputs": [
    {
     "data": {
      "text/plain": [
       "27"
      ]
     },
     "execution_count": 204,
     "metadata": {},
     "output_type": "execute_result"
    }
   ],
   "source": [
    "#Range of group 2 - fasting glucose level\n",
    "range_group2_fasting = control_group2[\"Fasting glucose level\"].max() - control_group2[\"Fasting glucose level\"].min()\n",
    "range_group2_fasting\n"
   ]
  },
  {
   "cell_type": "code",
   "execution_count": 205,
   "metadata": {
    "colab": {
     "base_uri": "https://localhost:8080/"
    },
    "id": "cY_hYNXzZ7C1",
    "outputId": "ac73bb8e-74d2-42ed-ebdc-39be84080908"
   },
   "outputs": [
    {
     "data": {
      "text/plain": [
       "78.2218487394958"
      ]
     },
     "execution_count": 205,
     "metadata": {},
     "output_type": "execute_result"
    }
   ],
   "source": [
    "# Variance of group 1 - fasting glucose level\n",
    "variance_group1_fasting = control_group1[\"Fasting glucose level\"].var()\n",
    "variance_group1_fasting"
   ]
  },
  {
   "cell_type": "code",
   "execution_count": 206,
   "metadata": {
    "colab": {
     "base_uri": "https://localhost:8080/"
    },
    "id": "y8ZExrcvaC5-",
    "outputId": "1dc95dbf-2053-42af-c522-9065da381a1c"
   },
   "outputs": [
    {
     "data": {
      "text/plain": [
       "53.97241379310345"
      ]
     },
     "execution_count": 206,
     "metadata": {},
     "output_type": "execute_result"
    }
   ],
   "source": [
    "# Variance of group 2 - fasting glucose level\n",
    "variance_group2_fasting = control_group2[\"Fasting glucose level\"].var()\n",
    "variance_group2_fasting"
   ]
  },
  {
   "cell_type": "code",
   "execution_count": 207,
   "metadata": {
    "colab": {
     "base_uri": "https://localhost:8080/"
    },
    "id": "Ug4ZfwCmaGEy",
    "outputId": "86bd577a-8a3d-4c38-a721-02713fbd3e92"
   },
   "outputs": [
    {
     "data": {
      "text/plain": [
       "8.844311660016047"
      ]
     },
     "execution_count": 207,
     "metadata": {},
     "output_type": "execute_result"
    }
   ],
   "source": [
    "# Standard deviation of group 1 - fasting glucose level\n",
    "std_dev_group1_fasting = control_group1[\"Fasting glucose level\"].std()\n",
    "std_dev_group1_fasting"
   ]
  },
  {
   "cell_type": "code",
   "execution_count": 208,
   "metadata": {
    "colab": {
     "base_uri": "https://localhost:8080/"
    },
    "id": "FOiOFm2KaMg4",
    "outputId": "46777cc3-e0c3-4bf7-aaa0-ec704dfe5e4b"
   },
   "outputs": [
    {
     "data": {
      "text/plain": [
       "7.346591984934474"
      ]
     },
     "execution_count": 208,
     "metadata": {},
     "output_type": "execute_result"
    }
   ],
   "source": [
    "# Standard deviation of group 2 - fasting glucose level\n",
    "std_dev_group2_fasting = control_group2[\"Fasting glucose level\"].std()\n",
    "std_dev_group2_fasting"
   ]
  },
  {
   "cell_type": "code",
   "execution_count": 209,
   "metadata": {
    "colab": {
     "base_uri": "https://localhost:8080/"
    },
    "id": "FA3tXzToaQRI",
    "outputId": "7ec4ef7e-7243-4b28-fa28-c0282bbe27c0"
   },
   "outputs": [
    {
     "data": {
      "text/plain": [
       "0.1044368785764378"
      ]
     },
     "execution_count": 209,
     "metadata": {},
     "output_type": "execute_result"
    }
   ],
   "source": [
    "# Coefficient of variation of group 1 - fasting glucose level\n",
    "cv_group1_fasting = std_dev_group1_fasting / mean_group1_fasting\n",
    "cv_group1_fasting"
   ]
  },
  {
   "cell_type": "code",
   "execution_count": 210,
   "metadata": {
    "colab": {
     "base_uri": "https://localhost:8080/"
    },
    "id": "0AeNdODRaXVJ",
    "outputId": "497ccf92-58e5-4b90-e5bb-e1b02c6253c8"
   },
   "outputs": [
    {
     "data": {
      "text/plain": [
       "0.08217664412678381"
      ]
     },
     "execution_count": 210,
     "metadata": {},
     "output_type": "execute_result"
    }
   ],
   "source": [
    "# Coefficient of variation of group 1 - fasting glucose level\n",
    "cv_group2_fasting = std_dev_group2_fasting / mean_group2_fasting\n",
    "cv_group2_fasting"
   ]
  },
  {
   "cell_type": "code",
   "execution_count": 211,
   "metadata": {
    "id": "zDXWHCWAaaik"
   },
   "outputs": [
    {
     "data": {
      "text/html": [
       "<div>\n",
       "<style scoped>\n",
       "    .dataframe tbody tr th:only-of-type {\n",
       "        vertical-align: middle;\n",
       "    }\n",
       "\n",
       "    .dataframe tbody tr th {\n",
       "        vertical-align: top;\n",
       "    }\n",
       "\n",
       "    .dataframe thead th {\n",
       "        text-align: right;\n",
       "    }\n",
       "</style>\n",
       "<table border=\"1\" class=\"dataframe\">\n",
       "  <thead>\n",
       "    <tr style=\"text-align: right;\">\n",
       "      <th></th>\n",
       "      <th>Control Group</th>\n",
       "      <th>Range</th>\n",
       "      <th>Variance</th>\n",
       "      <th>Standard deviation</th>\n",
       "      <th>Coefficient of variation</th>\n",
       "    </tr>\n",
       "  </thead>\n",
       "  <tbody>\n",
       "    <tr>\n",
       "      <th>0</th>\n",
       "      <td>1</td>\n",
       "      <td>38</td>\n",
       "      <td>78.221849</td>\n",
       "      <td>8.844312</td>\n",
       "      <td>0.104437</td>\n",
       "    </tr>\n",
       "    <tr>\n",
       "      <th>1</th>\n",
       "      <td>2</td>\n",
       "      <td>27</td>\n",
       "      <td>53.972414</td>\n",
       "      <td>7.346592</td>\n",
       "      <td>0.082177</td>\n",
       "    </tr>\n",
       "  </tbody>\n",
       "</table>\n",
       "</div>"
      ],
      "text/plain": [
       "  Control Group  Range   Variance  Standard deviation  \\\n",
       "0             1     38  78.221849            8.844312   \n",
       "1             2     27  53.972414            7.346592   \n",
       "\n",
       "   Coefficient of variation  \n",
       "0                  0.104437  \n",
       "1                  0.082177  "
      ]
     },
     "execution_count": 211,
     "metadata": {},
     "output_type": "execute_result"
    }
   ],
   "source": [
    "dispersion_measures = pd.DataFrame(\n",
    "    {\n",
    "        \"Control Group\": [\"1\", \"2\"],\n",
    "        \"Range\": [range_group1_fasting, range_group2_fasting],\n",
    "        \"Variance\": [variance_group1_fasting, variance_group2_fasting],\n",
    "        \"Standard deviation\": [std_dev_group1_fasting, std_dev_group2_fasting],\n",
    "        \"Coefficient of variation\": [cv_group1_fasting, cv_group2_fasting]\n",
    "    }\n",
    ")\n",
    "\n",
    "dispersion_measures"
   ]
  },
  {
   "cell_type": "markdown",
   "metadata": {
    "id": "pXOYdiNfaxy4",
    "jp-MarkdownHeadingCollapsed": true
   },
   "source": [
    "# EXERCISE 1a. Obtain the measures of central tendency and dispersion for each of the two control groups for the fasting glucose level. Specify for each case whether the mean is representative or not."
   ]
  },
  {
   "cell_type": "code",
   "execution_count": 212,
   "metadata": {
    "id": "lpepNAiCa4YQ"
   },
   "outputs": [],
   "source": [
    "# Creation of a dataframe with central tendency values for groups 1 and 2 for fasting glucose levels\n",
    "fasting_glucose_level = pd.DataFrame({\n",
    "    \"Control_Group\": [\"1\", \"2\"],\n",
    "    \"Mean\": [mean_group1_fasting, mean_group2_fasting],\n",
    "    \"Median\": [median_group1_fasting, median_group2_fasting],\n",
    "    \"Mode\": [mode_group1_fasting, mode_group2_fasting],\n",
    "    \"Range\": [range_group1_fasting, range_group2_fasting],\n",
    "    \"Variance\": [variance_group1_fasting, variance_group2_fasting],\n",
    "    \"Standard_deviation\": [std_dev_group1_fasting, std_dev_group2_fasting],\n",
    "    \"Coefficient_variation\": [cv_group1_fasting, cv_group2_fasting]\n",
    "})"
   ]
  },
  {
   "cell_type": "code",
   "execution_count": 213,
   "metadata": {
    "colab": {
     "base_uri": "https://localhost:8080/",
     "height": 125
    },
    "id": "V2M_pB2NbNoe",
    "outputId": "c1f38d7d-a3f2-4b94-d307-f78ceb2595c5"
   },
   "outputs": [
    {
     "data": {
      "text/html": [
       "<div>\n",
       "<style scoped>\n",
       "    .dataframe tbody tr th:only-of-type {\n",
       "        vertical-align: middle;\n",
       "    }\n",
       "\n",
       "    .dataframe tbody tr th {\n",
       "        vertical-align: top;\n",
       "    }\n",
       "\n",
       "    .dataframe thead th {\n",
       "        text-align: right;\n",
       "    }\n",
       "</style>\n",
       "<table border=\"1\" class=\"dataframe\">\n",
       "  <thead>\n",
       "    <tr style=\"text-align: right;\">\n",
       "      <th></th>\n",
       "      <th>Control_Group</th>\n",
       "      <th>Mean</th>\n",
       "      <th>Median</th>\n",
       "      <th>Mode</th>\n",
       "      <th>Range</th>\n",
       "      <th>Variance</th>\n",
       "      <th>Standard_deviation</th>\n",
       "      <th>Coefficient_variation</th>\n",
       "    </tr>\n",
       "  </thead>\n",
       "  <tbody>\n",
       "    <tr>\n",
       "      <th>0</th>\n",
       "      <td>1</td>\n",
       "      <td>84.685714</td>\n",
       "      <td>82.0</td>\n",
       "      <td>0    75\n",
       "1    79\n",
       "2    82\n",
       "3    90\n",
       "Name: Fasting ...</td>\n",
       "      <td>38</td>\n",
       "      <td>78.221849</td>\n",
       "      <td>8.844312</td>\n",
       "      <td>0.104437</td>\n",
       "    </tr>\n",
       "    <tr>\n",
       "      <th>1</th>\n",
       "      <td>2</td>\n",
       "      <td>89.400000</td>\n",
       "      <td>90.0</td>\n",
       "      <td>0    88\n",
       "Name: Fasting glucose level, dtype: int64</td>\n",
       "      <td>27</td>\n",
       "      <td>53.972414</td>\n",
       "      <td>7.346592</td>\n",
       "      <td>0.082177</td>\n",
       "    </tr>\n",
       "  </tbody>\n",
       "</table>\n",
       "</div>"
      ],
      "text/plain": [
       "  Control_Group       Mean  Median  \\\n",
       "0             1  84.685714    82.0   \n",
       "1             2  89.400000    90.0   \n",
       "\n",
       "                                                Mode  Range   Variance  \\\n",
       "0  0    75\n",
       "1    79\n",
       "2    82\n",
       "3    90\n",
       "Name: Fasting ...     38  78.221849   \n",
       "1  0    88\n",
       "Name: Fasting glucose level, dtype: int64     27  53.972414   \n",
       "\n",
       "   Standard_deviation  Coefficient_variation  \n",
       "0            8.844312               0.104437  \n",
       "1            7.346592               0.082177  "
      ]
     },
     "execution_count": 213,
     "metadata": {},
     "output_type": "execute_result"
    }
   ],
   "source": [
    "fasting_glucose_level"
   ]
  },
  {
   "cell_type": "markdown",
   "metadata": {
    "id": "paPrEHaSbzoq",
    "jp-MarkdownHeadingCollapsed": true
   },
   "source": [
    "# EXERCISE 1b. Study the skewness and kurtosis of the fasting glucose level in adults (control group 2)."
   ]
  },
  {
   "cell_type": "code",
   "execution_count": 214,
   "metadata": {
    "id": "6UQbjmqPcGL3"
   },
   "outputs": [],
   "source": [
    "# First, filter control group 2 for fasting glucose\n",
    "control_group_2 = df[df[\"Control group\"] == 2]\n",
    "\n",
    "# Skewness coefficient of group 2 fasting glucose\n",
    "skewness_group2_fasting = control_group_2[\"Fasting glucose level\"].skew()\n",
    "\n",
    "# Kurtosis of group 2 fasting glucose\n",
    "kurtosis_group2_fasting = control_group_2[\"Fasting glucose level\"].kurtosis()\n"
   ]
  },
  {
   "cell_type": "code",
   "execution_count": 215,
   "metadata": {
    "colab": {
     "base_uri": "https://localhost:8080/",
     "height": 89
    },
    "id": "skPhIMRNclhj",
    "outputId": "6a708822-ea03-4e5e-a2fe-c04b50b7fcec"
   },
   "outputs": [
    {
     "data": {
      "text/html": [
       "<div>\n",
       "<style scoped>\n",
       "    .dataframe tbody tr th:only-of-type {\n",
       "        vertical-align: middle;\n",
       "    }\n",
       "\n",
       "    .dataframe tbody tr th {\n",
       "        vertical-align: top;\n",
       "    }\n",
       "\n",
       "    .dataframe thead th {\n",
       "        text-align: right;\n",
       "    }\n",
       "</style>\n",
       "<table border=\"1\" class=\"dataframe\">\n",
       "  <thead>\n",
       "    <tr style=\"text-align: right;\">\n",
       "      <th></th>\n",
       "      <th>Control_Group</th>\n",
       "      <th>Skewness_Coefficient</th>\n",
       "      <th>Kurtosis</th>\n",
       "    </tr>\n",
       "  </thead>\n",
       "  <tbody>\n",
       "    <tr>\n",
       "      <th>0</th>\n",
       "      <td>2</td>\n",
       "      <td>-0.007469</td>\n",
       "      <td>-0.612661</td>\n",
       "    </tr>\n",
       "  </tbody>\n",
       "</table>\n",
       "</div>"
      ],
      "text/plain": [
       "  Control_Group  Skewness_Coefficient  Kurtosis\n",
       "0             2             -0.007469 -0.612661"
      ]
     },
     "execution_count": 215,
     "metadata": {},
     "output_type": "execute_result"
    }
   ],
   "source": [
    "# Creation of a dataframe with the kurtosis and skewness values for control group 2:\n",
    "\n",
    "group_2_fasting = pd.DataFrame({\n",
    "    \"Control_Group\": \"2\",\n",
    "    \"Skewness_Coefficient\": [skewness_group2_fasting],\n",
    "    \"Kurtosis\": [kurtosis_group2_fasting]\n",
    "})\n",
    "\n",
    "group_2_fasting"
   ]
  },
  {
   "cell_type": "markdown",
   "metadata": {
    "id": "b_1jc-L6YeRd"
   },
   "source": [
    "With these data, we can observe that since the kurtosis is negative, the distribution would be flatter (platykurtic) with fewer extreme values."
   ]
  },
  {
   "cell_type": "code",
   "execution_count": 216,
   "metadata": {
    "colab": {
     "base_uri": "https://localhost:8080/",
     "height": 449
    },
    "id": "KJuk2kXMewaC",
    "outputId": "d762a2c9-d30c-4b78-fb34-3d508b8fee2e"
   },
   "outputs": [
    {
     "data": {
      "image/png": "[encoded data removed]",
      "text/plain": [
       "<Figure size 640x480 with 1 Axes>"
      ]
     },
     "metadata": {},
     "output_type": "display_data"
    }
   ],
   "source": [
    "from scipy.interpolate import UnivariateSpline\n",
    "import numpy as np\n",
    "import matplotlib.pyplot as plt\n",
    "\n",
    "data = control_group_2[\"Fasting glucose level\"]  # Select the data to study skewness for group 2 - fasting glucose level\n",
    "intervals = 4  # Number of bins for the histogram\n",
    "\n",
    "frequencies, bin_edges = np.histogram(data, bins=intervals)  # Create histogram and get frequencies\n",
    "bin_mids = (bin_edges[:-1] + bin_edges[1:]) / 2  # Calculate the midpoint of each bin\n",
    "\n",
    "plt.hist(control_group_2[\"Fasting glucose level\"],\n",
    "         bins=intervals,\n",
    "         alpha=0.5,\n",
    "         edgecolor='black',\n",
    "         label=\"Histogram\")  # Plot histogram\n",
    "\n",
    "# Smooth the polygon line\n",
    "\n",
    "spline = UnivariateSpline(bin_mids, frequencies, s=5)\n",
    "x_smooth = np.linspace(bin_edges[0], bin_edges[-1], 200)\n",
    "y_smooth = spline(x_smooth)\n",
    "\n",
    "plt.plot(x_smooth, y_smooth, linestyle='-', color='red', label=\"Frequency Polygon\")  # Plot the smoothed frequency polygon\n",
    "\n",
    "plt.xlabel(\"Fasting Glucose Level\")\n",
    "plt.ylabel(\"Absolute Frequency\")\n",
    "plt.legend()\n",
    "plt.show()"
   ]
  },
  {
   "cell_type": "markdown",
   "metadata": {
    "id": "hUnU5ioVjYpS"
   },
   "source": [
    "In this case, we might need more data to make more confident statements, but at first glance, the distribution appears fairly symmetrical. There are low values at both ends of the graph (<84 and >97). Regarding skewness, we observe that there is no long tail on either the right or left side, meaning the data is fairly centered."
   ]
  },
  {
   "cell_type": "markdown",
   "metadata": {
    "id": "-g7NNjqdc9XY",
    "jp-MarkdownHeadingCollapsed": true
   },
   "source": [
    "# EXERCISE 1c. For each study variable (fasting glucose level and glucose level at 60 minutes) in control group 1, indicate the quartile values and their meaning, and obtain the corresponding box plot. Study the presence of outliers."
   ]
  },
  {
   "cell_type": "markdown",
   "metadata": {
    "id": "Y2OxBymEVsMZ"
   },
   "source": [
    "###  Quartiles"
   ]
  },
  {
   "cell_type": "code",
   "execution_count": 217,
   "metadata": {
    "colab": {
     "base_uri": "https://localhost:8080/",
     "height": 174
    },
    "id": "jhZTOj9dXA2_",
    "outputId": "d85b988a-050f-46c4-8f84-61b0826b0f3b"
   },
   "outputs": [
    {
     "data": {
      "text/html": [
       "<div>\n",
       "<style scoped>\n",
       "    .dataframe tbody tr th:only-of-type {\n",
       "        vertical-align: middle;\n",
       "    }\n",
       "\n",
       "    .dataframe tbody tr th {\n",
       "        vertical-align: top;\n",
       "    }\n",
       "\n",
       "    .dataframe thead th {\n",
       "        text-align: right;\n",
       "    }\n",
       "</style>\n",
       "<table border=\"1\" class=\"dataframe\">\n",
       "  <thead>\n",
       "    <tr style=\"text-align: right;\">\n",
       "      <th></th>\n",
       "      <th>Quartiles</th>\n",
       "      <th>Fasting glucose level</th>\n",
       "      <th>Glucose level 60 min</th>\n",
       "    </tr>\n",
       "  </thead>\n",
       "  <tbody>\n",
       "    <tr>\n",
       "      <th>0</th>\n",
       "      <td>Q1</td>\n",
       "      <td>78.5</td>\n",
       "      <td>146.5</td>\n",
       "    </tr>\n",
       "    <tr>\n",
       "      <th>1</th>\n",
       "      <td>Q2</td>\n",
       "      <td>82.0</td>\n",
       "      <td>150.0</td>\n",
       "    </tr>\n",
       "    <tr>\n",
       "      <th>2</th>\n",
       "      <td>Q3</td>\n",
       "      <td>90.5</td>\n",
       "      <td>154.5</td>\n",
       "    </tr>\n",
       "    <tr>\n",
       "      <th>3</th>\n",
       "      <td>Q4</td>\n",
       "      <td>103.0</td>\n",
       "      <td>172.0</td>\n",
       "    </tr>\n",
       "  </tbody>\n",
       "</table>\n",
       "</div>"
      ],
      "text/plain": [
       "  Quartiles  Fasting glucose level  Glucose level 60 min\n",
       "0        Q1                   78.5                 146.5\n",
       "1        Q2                   82.0                 150.0\n",
       "2        Q3                   90.5                 154.5\n",
       "3        Q4                  103.0                 172.0"
      ]
     },
     "execution_count": 217,
     "metadata": {},
     "output_type": "execute_result"
    }
   ],
   "source": [
    "# Creation of a dataframe with quartile values for control group 1 in both variables (fasting glucose level and glucose level at 60 minutes)\n",
    "quartiles_group1 = pd.DataFrame({\n",
    "    \"Quartiles\": [\"Q1\", \"Q2\", \"Q3\", \"Q4\"],\n",
    "    \"Fasting glucose level\": [control_group1[\"Fasting glucose level\"].quantile(0.25),\n",
    "                             control_group1[\"Fasting glucose level\"].quantile(0.5),\n",
    "                             control_group1[\"Fasting glucose level\"].quantile(0.75),\n",
    "                             control_group1[\"Fasting glucose level\"].quantile(1)],\n",
    "    \"Glucose level 60 min\": [control_group1[\"Glucose level at 60 min\"].quantile(0.25),\n",
    "                             control_group1[\"Glucose level at 60 min\"].quantile(0.5),\n",
    "                             control_group1[\"Glucose level at 60 min\"].quantile(0.75),\n",
    "                             control_group1[\"Glucose level at 60 min\"].quantile(1)]\n",
    "})\n",
    "\n",
    "quartiles_group1"
   ]
  },
  {
   "cell_type": "markdown",
   "metadata": {
    "id": "gFwXojXpVBCF"
   },
   "source": [
    "For the fasting glucose level, we see that 25% of the data have values of 78.5 or lower. The median for this series is 82, which corresponds to Q2. Finally, the value of 90.5 indicates that 75% of the data for this group fall below this value. The same can be said about the \"Glucose level at 60 minutes\" series."
   ]
  },
  {
   "cell_type": "code",
   "execution_count": 218,
   "metadata": {
    "colab": {
     "base_uri": "https://localhost:8080/"
    },
    "id": "YA5UC_r2rK7Y",
    "outputId": "241a5b8b-513e-4e08-d432-eea1c259f39f"
   },
   "outputs": [
    {
     "name": "stdout",
     "output_type": "stream",
     "text": [
      "The interquartile range for control group 1 with fasting glucose level is: 12.0\n"
     ]
    }
   ],
   "source": [
    "iqr_group1_fasting = control_group1[\"Fasting glucose level\"].quantile(0.75) - control_group1[\"Fasting glucose level\"].quantile(0.25)\n",
    "print(f\"The interquartile range for control group 1 with fasting glucose level is: {iqr_group1_fasting}\")\n"
   ]
  },
  {
   "cell_type": "code",
   "execution_count": 219,
   "metadata": {
    "colab": {
     "base_uri": "https://localhost:8080/"
    },
    "id": "4cQ1J-7GrPP6",
    "outputId": "62e2d867-d8e4-4fb0-d1e2-8c52eeda07ca"
   },
   "outputs": [
    {
     "name": "stdout",
     "output_type": "stream",
     "text": [
      "The interquartile range for control group 1 with glucose level at 60 minutes is: 8.0\n"
     ]
    }
   ],
   "source": [
    "iqr_group1_60min = control_group1[\"Glucose level at 60 min\"].quantile(0.75) - control_group1[\"Glucose level at 60 min\"].quantile(0.25)\n",
    "print(f\"The interquartile range for control group 1 with glucose level at 60 minutes is: {iqr_group1_60min}\")\n"
   ]
  },
  {
   "cell_type": "code",
   "execution_count": 220,
   "metadata": {
    "colab": {
     "base_uri": "https://localhost:8080/"
    },
    "id": "us2G53HKxcPc",
    "outputId": "85504d35-5527-48b1-987b-db319234d09a"
   },
   "outputs": [
    {
     "data": {
      "text/plain": [
       "60.5"
      ]
     },
     "execution_count": 220,
     "metadata": {},
     "output_type": "execute_result"
    }
   ],
   "source": [
    "# Minimum range for outliers in group 1 fasting glucose:\n",
    "group1_fasting_lower_outlier = control_group1[\"Fasting glucose level\"].quantile(0.25) - 1.5 * iqr_group1_fasting\n",
    "group1_fasting_lower_outlier\n"
   ]
  },
  {
   "cell_type": "code",
   "execution_count": 221,
   "metadata": {
    "colab": {
     "base_uri": "https://localhost:8080/"
    },
    "id": "UXCwKkSHzAu0",
    "outputId": "27f3cd51-9c56-4f0f-eb15-66d68b58a434"
   },
   "outputs": [
    {
     "data": {
      "text/plain": [
       "108.5"
      ]
     },
     "execution_count": 221,
     "metadata": {},
     "output_type": "execute_result"
    }
   ],
   "source": [
    "# Maximum range for outliers in group 1 fasting glucose:\n",
    "group1_fasting_upper_outlier = control_group1[\"Fasting glucose level\"].quantile(0.75) + 1.5 * iqr_group1_fasting\n",
    "group1_fasting_upper_outlier\n"
   ]
  },
  {
   "cell_type": "code",
   "execution_count": 222,
   "metadata": {
    "colab": {
     "base_uri": "https://localhost:8080/"
    },
    "id": "YdP71a9JzEJ5",
    "outputId": "42dbda16-d925-4567-84f4-a40d5c0a20a7"
   },
   "outputs": [
    {
     "data": {
      "text/plain": [
       "134.5"
      ]
     },
     "execution_count": 222,
     "metadata": {},
     "output_type": "execute_result"
    }
   ],
   "source": [
    "# Minimum range for outliers in group 1 glucose level at 60 minutes:\n",
    "group1_60min_lower_outlier = control_group1[\"Glucose level at 60 min\"].quantile(0.25) - 1.5 * iqr_group1_60min\n",
    "group1_60min_lower_outlier"
   ]
  },
  {
   "cell_type": "code",
   "execution_count": 223,
   "metadata": {
    "colab": {
     "base_uri": "https://localhost:8080/"
    },
    "id": "nvG3OsbLzEAD",
    "outputId": "6204b073-23ae-49de-ca02-336a15fbe623"
   },
   "outputs": [
    {
     "data": {
      "text/plain": [
       "166.5"
      ]
     },
     "execution_count": 223,
     "metadata": {},
     "output_type": "execute_result"
    }
   ],
   "source": [
    "# Maximum range for outliers in group 1 glucose level at 60 minutes:\n",
    "group1_60min_upper_outlier = control_group1[\"Glucose level at 60 min\"].quantile(0.75) + 1.5 * iqr_group1_60min\n",
    "group1_60min_upper_outlier\n"
   ]
  },
  {
   "cell_type": "markdown",
   "metadata": {
    "id": "D20ncjmI2NLt"
   },
   "source": [
    "### Outliers"
   ]
  },
  {
   "cell_type": "code",
   "execution_count": 224,
   "metadata": {},
   "outputs": [],
   "source": [
    "# I have created a function that tells you what values are outliers based on a serie given\n",
    "def outliers(serie):\n",
    "    q1 = serie.quantile(0.25)\n",
    "    q3 = serie.quantile(0.75)\n",
    "    iqr = q3 - q1\n",
    "    lower_bound = q1 - 1.5 * iqr\n",
    "    upper_bound = q3 + 1.5 * iqr\n",
    "    \n",
    "    outliers_x = [value for value in serie if (value < lower_bound) or (value > upper_bound)]\n",
    "    \n",
    "    print(f\"The following values are outliers: {outliers_x}\")"
   ]
  },
  {
   "cell_type": "code",
   "execution_count": 225,
   "metadata": {
    "colab": {
     "base_uri": "https://localhost:8080/"
    },
    "id": "ykklVg04sFUp",
    "outputId": "6aa9ef10-c6dc-413b-fbad-13ad21caf66f"
   },
   "outputs": [
    {
     "name": "stdout",
     "output_type": "stream",
     "text": [
      "The following values are outliers: []\n"
     ]
    }
   ],
   "source": [
    "outliers(control_group1[\"Fasting glucose level\"])"
   ]
  },
  {
   "cell_type": "markdown",
   "metadata": {
    "id": "CDPkVdJr1xml"
   },
   "source": [
    "It seems that in the Group 1 – Fasting Glucose series, there are NO outliers; that is, no values below 60.5 or above 108.5. This can be confirmed with the boxplot graph shown below."
   ]
  },
  {
   "cell_type": "code",
   "execution_count": 226,
   "metadata": {},
   "outputs": [
    {
     "name": "stdout",
     "output_type": "stream",
     "text": [
      "The following values are outliers: [172, 131]\n"
     ]
    }
   ],
   "source": [
    "outliers(control_group1[\"Glucose level at 60 min\"])"
   ]
  },
  {
   "cell_type": "markdown",
   "metadata": {
    "id": "LINOeBjl18E9"
   },
   "source": [
    "It appears that in the series Group 1 – Glucose at 60 minutes, there are two outlier values: 131 and 172.\n",
    "Since these are not extreme values, we will keep them in the dataset."
   ]
  },
  {
   "cell_type": "code",
   "execution_count": 227,
   "metadata": {
    "colab": {
     "base_uri": "https://localhost:8080/",
     "height": 472
    },
    "id": "7upy6W-37zzZ",
    "outputId": "e6761e97-f301-4b9c-9dc0-082d80c97a1f"
   },
   "outputs": [
    {
     "data": {
      "image/png": "[encoded data removed]",
      "text/plain": [
       "<Figure size 640x480 with 1 Axes>"
      ]
     },
     "metadata": {},
     "output_type": "display_data"
    }
   ],
   "source": [
    "boxplot = control_group1.boxplot(column=[\"Fasting glucose level\", \"Glucose level at 60 min\"])\n",
    "boxplot.set_title(\"Boxplot Control Group 1\")\n",
    "boxplot.set_ylabel(\"Glucose Levels\")\n",
    "boxplot.set_xlabel(\"Series\")\n",
    "plt.show()"
   ]
  },
  {
   "cell_type": "markdown",
   "metadata": {
    "id": "10FW0D-fWw46"
   },
   "source": [
    "# Exercise 1d. Study the normality of the data for each of the control groups for glucose levels after 60 minutes."
   ]
  },
  {
   "cell_type": "code",
   "execution_count": 228,
   "metadata": {
    "colab": {
     "base_uri": "https://localhost:8080/",
     "height": 708
    },
    "id": "zREdAEXLcDBA",
    "outputId": "f5c99368-d6e4-4817-8c5f-e9db742e4a5d"
   },
   "outputs": [
    {
     "data": {
      "image/png": "[encoded data removed]",
      "text/plain": [
       "<Figure size 1000x700 with 4 Axes>"
      ]
     },
     "metadata": {},
     "output_type": "display_data"
    }
   ],
   "source": [
    "# 4-plot subplot\n",
    "fig, axs = plt.subplots(2, 2, figsize=(10, 7))\n",
    "control_group1_60min = control_group1[\"Glucose level at 60 min\"]\n",
    "control_group2_60min = control_group2[\"Glucose level at 60 min\"]\n",
    "intervals = 10\n",
    "\n",
    "# Plot 1 (0,0). QQ Plot Control Group 1 - Glucose at 60 minutes\n",
    "stats.probplot(control_group1_60min, dist=\"norm\", plot=axs[0, 0])\n",
    "axs[0, 0].set_title(\"QQ Plot Control Group 1 - Glucose at 60 Minutes\")\n",
    "\n",
    "# Plot 2 (0,1). QQ Plot Control Group 2 - Glucose at 60 minutes\n",
    "stats.probplot(control_group2_60min, dist=\"norm\", plot=axs[0, 1])\n",
    "axs[0, 1].set_title(\"QQ Plot Control Group 2 - Glucose at 60 Minutes\")\n",
    "\n",
    "# Plot 3 (1,0). Histogram Control Group 1 - Glucose at 60 minutes\n",
    "axs[1,0].hist(\n",
    "    control_group1_60min,\n",
    "    bins=intervals,\n",
    "    alpha=0.5,\n",
    "    edgecolor=\"black\",\n",
    "    label=\"Absolute Frequency\"\n",
    ")\n",
    "\n",
    "axs[1,0].set_xlabel(\"Glucose Level at 60 min\")\n",
    "axs[1,0].set_ylabel(\"Absolute Frequency\")\n",
    "axs[1,0].set_title(\"Histogram Control Group 1 - Glucose at 60 Minutes\")\n",
    "axs[1,0].set_ylim(0 , 15)\n",
    "axs[1,0].legend()\n",
    "\n",
    "# Plot 4 (1,1). Histogram Control Group 2 - Glucose at 60 minutes\n",
    "axs[1,1].hist(\n",
    "    control_group2_60min,\n",
    "    bins=intervals,\n",
    "    alpha=0.5,\n",
    "    edgecolor=\"black\",\n",
    "    label=\"Absolute Frequency\"\n",
    ")\n",
    "\n",
    "axs[1,1].set_xlabel(\"Glucose Level at 60 min\")\n",
    "axs[1,1].set_ylabel(\"Absolute Frequency\")\n",
    "axs[1,1].set_title(\"Histogram Control Group 2 - Glucose at 60 Minutes\")\n",
    "axs[1,1].set_ylim(0 , 15)\n",
    "axs[1,1].legend()\n",
    "\n",
    "plt.tight_layout()\n",
    "plt.show();\n",
    "\n"
   ]
  },
  {
   "cell_type": "code",
   "execution_count": 229,
   "metadata": {
    "colab": {
     "base_uri": "https://localhost:8080/"
    },
    "id": "jA_X9F7jYxVE",
    "outputId": "8a962df0-f7bf-4727-dd2d-82a2204a01a1"
   },
   "outputs": [
    {
     "name": "stdout",
     "output_type": "stream",
     "text": [
      "Shapiro-Wilk p-value for Control Group 1 at 60 minutes after glucose intake: 0.2734100766567578\n",
      "The data appears to be normally distributed (fail to reject H₀)\n",
      "\n",
      "Shapiro-Wilk p-value for Control Group 2 at 60 minutes after glucose intake: 0.7591859818139317\n",
      "The data appears to be normally distributed (fail to reject H₀)\n"
     ]
    }
   ],
   "source": [
    "# Shapiro-Wilk test (p-values):\n",
    "\n",
    "control_group1_60min = control_group1[\"Glucose level at 60 min\"]\n",
    "control_group2_60min = control_group2[\"Glucose level at 60 min\"]\n",
    "\n",
    "stat, p1 = stats.shapiro(control_group1_60min)\n",
    "print(\"Shapiro-Wilk p-value for Control Group 1 at 60 minutes after glucose intake:\", p1)\n",
    "if p1 > 0.05:\n",
    "    print(\"The data appears to be normally distributed (fail to reject H₀)\")\n",
    "else:\n",
    "    print(\"The data does not appear to be normally distributed (reject H₀)\")\n",
    "\n",
    "print()\n",
    "\n",
    "stat, p2 = stats.shapiro(control_group2_60min)\n",
    "print(\"Shapiro-Wilk p-value for Control Group 2 at 60 minutes after glucose intake:\", p2)\n",
    "if p2 > 0.05:\n",
    "    print(\"The data appears to be normally distributed (fail to reject H₀)\")\n",
    "else:\n",
    "    print(\"The data does not appear to be normally distributed (reject H₀)\")\n"
   ]
  },
  {
   "cell_type": "markdown",
   "metadata": {
    "id": "by7laQpKWTRQ"
   },
   "source": [
    "Based on these plots, we can observe that the distribution appears more normalized in Control Group 2 – glucose levels at 60 minutes, as the data points lie closer to the reference line in the QQ plot.\n",
    "\n",
    "Lastly, using the Shapiro-Wilk test, we define the hypotheses as follows:\n",
    "\n",
    "- H₀: p > 0.05 → The data is normally distributed\n",
    "- H₁: p < 0.05 → The data is not normally distributed\n",
    "\n",
    "  \n",
    "In this case, we see that we cannot reject the null hypothesis (H₀), which suggests that both samples follow a normal distribution. In other words, there is little evidence to suggest that either sample deviates from normality."
   ]
  },
  {
   "cell_type": "markdown",
   "metadata": {
    "id": "rtanlyAGlZRN"
   },
   "source": [
    "# Exercise 2a. Study the linear relationship between fasting glucose levels and glucose levels at 60 minutes in Group 1."
   ]
  },
  {
   "cell_type": "code",
   "execution_count": 230,
   "metadata": {
    "colab": {
     "base_uri": "https://localhost:8080/"
    },
    "id": "KhRt7PICl0Qh",
    "outputId": "4541592c-08fd-44cd-b18a-a78c0936ec58"
   },
   "outputs": [
    {
     "name": "stdout",
     "output_type": "stream",
     "text": [
      "The covariance of Group 1 is: 54.5118\n"
     ]
    }
   ],
   "source": [
    "# Data filtering\n",
    "group1 = control_group1[[\"Fasting glucose level\", \"Glucose level at 60 min\"]]\n",
    "\n",
    "# Covariance\n",
    "covariance_group1 = group1[\"Fasting glucose level\"].cov(group1[\"Glucose level at 60 min\"])\n",
    "\n",
    "print(f\"The covariance of Group 1 is: {round(covariance_group1, 4)}\")"
   ]
  },
  {
   "cell_type": "code",
   "execution_count": 231,
   "metadata": {
    "colab": {
     "base_uri": "https://localhost:8080/",
     "height": 125
    },
    "id": "WBynbFCgnWUt",
    "outputId": "ceb1de48-fd7b-499e-b9d1-ab894b57e5e0"
   },
   "outputs": [
    {
     "data": {
      "text/html": [
       "<div>\n",
       "<style scoped>\n",
       "    .dataframe tbody tr th:only-of-type {\n",
       "        vertical-align: middle;\n",
       "    }\n",
       "\n",
       "    .dataframe tbody tr th {\n",
       "        vertical-align: top;\n",
       "    }\n",
       "\n",
       "    .dataframe thead th {\n",
       "        text-align: right;\n",
       "    }\n",
       "</style>\n",
       "<table border=\"1\" class=\"dataframe\">\n",
       "  <thead>\n",
       "    <tr style=\"text-align: right;\">\n",
       "      <th></th>\n",
       "      <th>Fasting glucose level</th>\n",
       "      <th>Glucose level at 60 min</th>\n",
       "    </tr>\n",
       "  </thead>\n",
       "  <tbody>\n",
       "    <tr>\n",
       "      <th>Fasting glucose level</th>\n",
       "      <td>1.000000</td>\n",
       "      <td>0.796405</td>\n",
       "    </tr>\n",
       "    <tr>\n",
       "      <th>Glucose level at 60 min</th>\n",
       "      <td>0.796405</td>\n",
       "      <td>1.000000</td>\n",
       "    </tr>\n",
       "  </tbody>\n",
       "</table>\n",
       "</div>"
      ],
      "text/plain": [
       "                         Fasting glucose level  Glucose level at 60 min\n",
       "Fasting glucose level                 1.000000                 0.796405\n",
       "Glucose level at 60 min               0.796405                 1.000000"
      ]
     },
     "execution_count": 231,
     "metadata": {},
     "output_type": "execute_result"
    }
   ],
   "source": [
    "# Pearson correlation coefficient between fasting glucose and 60-minute glucose levels\n",
    "correlation_coefficient = group1.corr(method=\"pearson\")\n",
    "correlation_coefficient"
   ]
  },
  {
   "cell_type": "code",
   "execution_count": 232,
   "metadata": {
    "colab": {
     "base_uri": "https://localhost:8080/",
     "height": 472
    },
    "id": "6rrlWDkqmsd0",
    "outputId": "0cca82ca-2d83-4ba9-e301-60b42787a01e"
   },
   "outputs": [
    {
     "data": {
      "image/png": "[encoded data removed]",
      "text/plain": [
       "<Figure size 640x480 with 1 Axes>"
      ]
     },
     "metadata": {},
     "output_type": "display_data"
    }
   ],
   "source": [
    "# Scatter plot with regression line\n",
    "x = group1[\"Fasting glucose level\"]        # Fasting glucose level\n",
    "y = group1[\"Glucose level at 60 min\"]       # 60-minute glucose level\n",
    "\n",
    "plt.scatter(x, y)\n",
    "\n",
    "# Calculate regression line\n",
    "coeffs = np.polyfit(x, y, 1)\n",
    "poly = np.poly1d(coeffs)\n",
    "\n",
    "# Plot regression line\n",
    "plt.plot(x, poly(x), color=\"red\")\n",
    "\n",
    "plt.xlabel(\"Fasting glucose level\")\n",
    "plt.ylabel(\"60-minute glucose level\")\n",
    "plt.title(\"Scatter Plot - Group 1\")\n",
    "plt.grid(True)\n",
    "plt.show()"
   ]
  },
  {
   "cell_type": "markdown",
   "metadata": {
    "id": "SDJ9LGpwoCkl"
   },
   "source": [
    "We found that in Group 1, there is a positive or direct relationship between fasting glucose level and glucose level 60 minutes after intake. That is, the higher the basal glucose level, the higher the glucose level rises one hour after ingesting the preparation.\n",
    "The positive sign of the covariance indicates that the glucose level at 60 minutes (variable y) depends on the fasting glucose level (variable x). Finally, a linear correlation coefficient of 0.7964 indicates a strong relationship between the two variables."
   ]
  },
  {
   "cell_type": "markdown",
   "metadata": {
    "id": "6kgs2pDhrVk8",
    "jp-MarkdownHeadingCollapsed": true
   },
   "source": [
    "# Exercise 2b. Obtain a linear model that explains the blood glucose level at 60 minutes as a function of the patient’s basal glucose level, and perform an estimation for a patient whose basal level is 83 mg/dL."
   ]
  },
  {
   "cell_type": "markdown",
   "metadata": {
    "id": "Ht3DqcJ2r-vJ"
   },
   "source": [
    "y = b1 * x + b0"
   ]
  },
  {
   "cell_type": "code",
   "execution_count": 233,
   "metadata": {
    "id": "OxIpsEBvsTaO"
   },
   "outputs": [],
   "source": [
    "mean_group1_60min = group1[\"Glucose level at 60 min\"].mean()"
   ]
  },
  {
   "cell_type": "code",
   "execution_count": 234,
   "metadata": {
    "colab": {
     "base_uri": "https://localhost:8080/"
    },
    "id": "zbKiPB6TbfpM",
    "outputId": "688c3408-62e8-4d41-8a5f-a822ee6d29c5"
   },
   "outputs": [
    {
     "name": "stdout",
     "output_type": "stream",
     "text": [
      "Variance: 78.2218487394958\n",
      "Covariance: 54.51176470588236\n",
      "Mean: 84.68571428571428\n"
     ]
    }
   ],
   "source": [
    "print(f\"Variance: {variance_group1_fasting}\")\n",
    "print(f\"Covariance: {covariance_group1}\")\n",
    "print(f\"Mean: {mean_group1_fasting}\")"
   ]
  },
  {
   "cell_type": "code",
   "execution_count": 235,
   "metadata": {
    "id": "GJ9ZZZvZsFhE"
   },
   "outputs": [],
   "source": [
    "b0 = mean_group1_60min-(covariance_group1/variance_group1_fasting)*mean_group1_fasting"
   ]
  },
  {
   "cell_type": "code",
   "execution_count": 236,
   "metadata": {
    "id": "_xWOjAf0ozCC"
   },
   "outputs": [],
   "source": [
    "b1 = covariance_group1/variance_group1_fasting"
   ]
  },
  {
   "cell_type": "code",
   "execution_count": 237,
   "metadata": {
    "id": "cyb5SbZBwEq7"
   },
   "outputs": [],
   "source": [
    "linear_model = f\"y = {round(b1, 4)} * x + {round(b0, 4)}\""
   ]
  },
  {
   "cell_type": "code",
   "execution_count": 238,
   "metadata": {
    "colab": {
     "base_uri": "https://localhost:8080/"
    },
    "id": "qgneBqaVbyMT",
    "outputId": "0df40565-0e98-46b5-9e29-79809cd7d42c"
   },
   "outputs": [
    {
     "name": "stdout",
     "output_type": "stream",
     "text": [
      "Variance: 78.2218487394958\n",
      "Covariance: 54.51176470588236\n",
      "Mean: 84.68571428571428\n",
      "B0 is: 91.3837\n",
      "B1 is: 0.6969\n",
      "The linear regression model is: y = 0.6969 * x + 91.3837\n"
     ]
    }
   ],
   "source": [
    "print(f\"Variance: {variance_group1_fasting}\")\n",
    "print(f\"Covariance: {covariance_group1}\")\n",
    "print(f\"Mean: {mean_group1_fasting}\")\n",
    "print(f\"B0 is: {round(b0, 4)}\")\n",
    "print(f\"B1 is: {round(b1, 4)}\")\n",
    "print(f\"The linear regression model is: {linear_model}\")"
   ]
  },
  {
   "cell_type": "markdown",
   "metadata": {
    "id": "1YSEjEidtxRq"
   },
   "source": [
    "If we want to estimate the glucose level at 60 minutes for a patient whose fasting glucose level is 83 mg/dL, we just need to substitute the values into the regression equation:"
   ]
  },
  {
   "cell_type": "code",
   "execution_count": 239,
   "metadata": {
    "colab": {
     "base_uri": "https://localhost:8080/"
    },
    "id": "-L5hpYFxtpy_",
    "outputId": "05506861-8d5c-4ea3-d324-e64ce43c1ff4"
   },
   "outputs": [
    {
     "name": "stdout",
     "output_type": "stream",
     "text": [
      "The estimation for a patient with a fasting glucose level of 83 mg/dL is: 149.23 mg/dL\n"
     ]
    }
   ],
   "source": [
    "estimation = b1 * 83 + b0\n",
    "print(f\"The estimation for a patient with a fasting glucose level of 83 mg/dL is: {round(estimation, 2)} mg/dL\")\n"
   ]
  },
  {
   "cell_type": "markdown",
   "metadata": {
    "id": "-RVdLZxPuUOx",
    "jp-MarkdownHeadingCollapsed": true
   },
   "source": [
    "# Exercise 2c. What percentage of the blood glucose level at 60 minutes remains unexplained by the previous model?"
   ]
  },
  {
   "cell_type": "code",
   "execution_count": null,
   "metadata": {},
   "outputs": [],
   "source": []
  },
  {
   "cell_type": "code",
   "execution_count": 240,
   "metadata": {
    "colab": {
     "base_uri": "https://localhost:8080/"
    },
    "id": "_Ko8Ky90uLrz",
    "outputId": "55d51a03-5254-4d3b-d2b5-d4a8dcacc204"
   },
   "outputs": [
    {
     "name": "stdout",
     "output_type": "stream",
     "text": [
      "The fasting glucose level (x) explains 63.43% of the variation in glucose level at 60 minutes (Y), so 36.57% remains unexplained.\n"
     ]
    }
   ],
   "source": [
    "determination_coefficient = correlation_coefficient['Glucose level at 60 min']['Fasting glucose level']**2\n",
    "percentage_unexplained = 1-determination_coefficient\n",
    "\n",
    "print(f\"The fasting glucose level (x) explains {round((1 - percentage_unexplained) * 100, 2)}% of the variation in glucose level at 60 minutes (Y), so {round(percentage_unexplained * 100, 2)}% remains unexplained.\")"
   ]
  },
  {
   "cell_type": "code",
   "execution_count": null,
   "metadata": {},
   "outputs": [],
   "source": []
  },
  {
   "cell_type": "markdown",
   "metadata": {
    "id": "VXO5Uqv8vb8X",
    "jp-MarkdownHeadingCollapsed": true
   },
   "source": [
    "# Exercise 2d. If a patient's fasting glucose level increased by 5 mg/dL, what change would be expected in their glucose level 60 minutes later?"
   ]
  },
  {
   "cell_type": "code",
   "execution_count": 241,
   "metadata": {
    "colab": {
     "base_uri": "https://localhost:8080/",
     "height": 36
    },
    "id": "fQ_4pSiBwLvB",
    "outputId": "63ceb8e4-b8f0-4461-fbab-a191ff9319d7"
   },
   "outputs": [
    {
     "data": {
      "text/plain": [
       "'y = 0.6969 * x + 91.3837'"
      ]
     },
     "execution_count": 241,
     "metadata": {},
     "output_type": "execute_result"
    }
   ],
   "source": [
    "linear_model"
   ]
  },
  {
   "cell_type": "code",
   "execution_count": 242,
   "metadata": {
    "colab": {
     "base_uri": "https://localhost:8080/"
    },
    "id": "vx2itRJXumBn",
    "outputId": "d096996b-7aaf-4c50-fcdb-df8a5ea36b56"
   },
   "outputs": [
    {
     "name": "stdout",
     "output_type": "stream",
     "text": [
      "If we increase a patient’s fasting glucose level by 5 mg/dL, their glucose level at 60 minutes would change by 3.4844 mg/dL\n"
     ]
    }
   ],
   "source": [
    "variation = 5*b1\n",
    "print(f\"If we increase a patient’s fasting glucose level by 5 mg/dL, their glucose level at 60 minutes would change by {round(variation, 4)} mg/dL\")"
   ]
  },
  {
   "cell_type": "markdown",
   "metadata": {
    "id": "25BRnS0OwT6B",
    "jp-MarkdownHeadingCollapsed": true
   },
   "source": [
    "# Exercise 3a. We want to study whether it can be assumed that the average blood glucose level at the time of ingestion in young people is 88 mg/dL. Obtain the 95% and 99% confidence intervals for the mean blood glucose level of the young group, and then answer the question posed based on the results obtained or by performing a hypothesis test."
   ]
  },
  {
   "cell_type": "markdown",
   "metadata": {
    "id": "eZu3ognhTwqF"
   },
   "source": [
    "Since the population variance is unknown, we will assume a normal distribution and use the Z statistic."
   ]
  },
  {
   "cell_type": "code",
   "execution_count": 243,
   "metadata": {
    "colab": {
     "base_uri": "https://localhost:8080/"
    },
    "id": "JezLPCMKPTzl",
    "outputId": "4882a63f-e4e1-4990-f510-720e8b380e4f"
   },
   "outputs": [
    {
     "name": "stdout",
     "output_type": "stream",
     "text": [
      "Sample size: 35\n",
      "Sample standard deviation: 8.844311660016047\n",
      "Sample mean: 84.68571428571428\n",
      "Sample variance: 78.2218487394958\n"
     ]
    }
   ],
   "source": [
    "control_group1_fasting = control_group1[\"Fasting glucose level\"]\n",
    "\n",
    "size_control_group1_fasting = len(control_group1_fasting)\n",
    "\n",
    "print(f\"Sample size: {size_control_group1_fasting}\")\n",
    "print(f\"Sample standard deviation: {std_dev_group1_fasting}\")\n",
    "print(f\"Sample mean: {mean_group1_fasting}\")\n",
    "print(f\"Sample variance: {variance_group1_fasting}\")"
   ]
  },
  {
   "cell_type": "code",
   "execution_count": 244,
   "metadata": {
    "colab": {
     "base_uri": "https://localhost:8080/"
    },
    "id": "1l1yYEJCPdIj",
    "outputId": "2956ce2f-f2ca-4160-95a9-be1c0e5fe92f"
   },
   "outputs": [
    {
     "data": {
      "text/plain": [
       "(80.83494857956745, 88.53647999186111)"
      ]
     },
     "execution_count": 244,
     "metadata": {},
     "output_type": "execute_result"
    }
   ],
   "source": [
    "# Obtain the 99% confidence interval for the mean blood glucose level of the young individuals.\n",
    "\n",
    "desc_stats = sm.stats.DescrStatsW(control_group1_fasting)\n",
    "conf_int = desc_stats.zconfint_mean(alpha=0.01)  # This provides the confidence interval for the mean at a 1% significance level.\n",
    "conf_int"
   ]
  },
  {
   "cell_type": "code",
   "execution_count": 245,
   "metadata": {
    "colab": {
     "base_uri": "https://localhost:8080/"
    },
    "id": "qQtBTiHtS1I1",
    "outputId": "83b32820-f5e7-4bfe-e306-11490c175db2"
   },
   "outputs": [
    {
     "data": {
      "text/plain": [
       "(81.75564353663506, 87.6157850347935)"
      ]
     },
     "execution_count": 245,
     "metadata": {},
     "output_type": "execute_result"
    }
   ],
   "source": [
    "# Obtain the 95% confidence interval for the mean blood glucose level of the young individuals.\n",
    "\n",
    "desc_stats = sm.stats.DescrStatsW(control_group1_fasting)\n",
    "conf_int = desc_stats.zconfint_mean(alpha=0.05)  # Esto da el intervalo de confianza para la media con nivel de significacion del 5%\n",
    "conf_int"
   ]
  },
  {
   "cell_type": "markdown",
   "metadata": {
    "id": "incg0bbxVFWH",
    "jp-MarkdownHeadingCollapsed": true
   },
   "source": [
    "# Exercise 3b. Obtain the 95% confidence intervals for the difference in mean basal glucose levels between adults and young individuals, and interpret the results. Can it be concluded that the basal glucose levels of young people and adults are the same at a 5% significance level? Assume the theoretical initial conditions required to compute the confidence intervals are met."
   ]
  },
  {
   "cell_type": "code",
   "execution_count": 246,
   "metadata": {
    "id": "BvOZg6jaS295"
   },
   "outputs": [],
   "source": [
    "from statsmodels.stats.weightstats import DescrStatsW, CompareMeans\n",
    "\n",
    "control_group1_fasting = control_group1[\"Fasting glucose level\"]\n",
    "control_group2_fasting = control_group2[\"Fasting glucose level\"]"
   ]
  },
  {
   "cell_type": "code",
   "execution_count": 247,
   "metadata": {
    "colab": {
     "base_uri": "https://localhost:8080/"
    },
    "id": "6IIYK345aIWv",
    "outputId": "17e0382c-33d8-42e0-d26a-034c25b444ae"
   },
   "outputs": [
    {
     "name": "stdout",
     "output_type": "stream",
     "text": [
      "The confidence interval for the difference of means is: (-8.6508, -0.7777)\n"
     ]
    }
   ],
   "source": [
    "# @title\n",
    "# OPCION 1\n",
    "\n",
    "def confidence_interval_difference_means(group1, group2, alpha):\n",
    "    \"\"\"\n",
    "    Calculates the confidence interval for the difference of means between two large samples.\n",
    "\n",
    "    :param group1: Sample 1 (array-like)\n",
    "    :param group2: Sample 2 (array-like)\n",
    "    :param alpha: Significance level (default 0.05 for a 95% CI)\n",
    "    :return: Confidence interval for the difference of means\n",
    "    \"\"\"\n",
    "\n",
    "    # Sample sizes\n",
    "    n1 = len(group1)\n",
    "    n2 = len(group2)\n",
    "\n",
    "    # Sample means\n",
    "    mean1 = group1.mean()\n",
    "    mean2 =  group2.mean()\n",
    "    mean_difference = mean1 - mean2\n",
    "\n",
    "    # Sample variances\n",
    "    var1 =  group1.var()\n",
    "    var2 =  group2.var()\n",
    "\n",
    "    # Z value for the confidence interval\n",
    "    z_alpha_over_2 = stats.norm.ppf(1 - alpha / 2)\n",
    "\n",
    "    # Combined standard error\n",
    "    error = np.sqrt((var1 / n1) + (var2 / n2))\n",
    "\n",
    "    # Calculate confidence interval\n",
    "    lower_bound = round(mean_difference - z_alpha_over_2 * error, 4)\n",
    "    upper_bound = round(mean_difference + z_alpha_over_2 * error, 4)\n",
    "\n",
    "    return lower_bound, upper_bound\n",
    "\n",
    "alpha = 0.05\n",
    "interval = confidence_interval_difference_means(control_group1_fasting, control_group2_fasting, alpha)\n",
    "print(f\"The confidence interval for the difference of means is: {interval}\")\n"
   ]
  },
  {
   "cell_type": "code",
   "execution_count": 248,
   "metadata": {
    "colab": {
     "base_uri": "https://localhost:8080/"
    },
    "id": "a0g8k6PMW3RP",
    "outputId": "1f91afc2-3713-4f4c-facf-b64a2de4c7cb"
   },
   "outputs": [
    {
     "name": "stdout",
     "output_type": "stream",
     "text": [
      "Confidence interval for the difference of means: (-8.650833452587902, -0.777737975983543)\n"
     ]
    }
   ],
   "source": [
    "# OPCION 2\n",
    "\n",
    "# Suppose these are the two samples\n",
    "group_1 = control_group1_fasting\n",
    "group_2 = control_group2_fasting\n",
    "\n",
    "# Create DescrStatsW objects\n",
    "desc1 = DescrStatsW(group_1)\n",
    "desc2 = DescrStatsW(group_2)\n",
    "\n",
    "# Compare the means\n",
    "comparison = CompareMeans(desc1, desc2)\n",
    "\n",
    "# 95% confidence interval\n",
    "ci_diff = comparison.zconfint_diff(usevar='unequal')  # Using Welch's test since we consider variances to be unequal between samples\n",
    "\n",
    "print(f\"Confidence interval for the difference of means: {ci_diff}\")"
   ]
  },
  {
   "cell_type": "markdown",
   "metadata": {
    "id": "9KB1AlI2XViP"
   },
   "source": [
    "It cannot be concluded that the basal glucose level for young people and adults is the same at a 5% significance level. Since the interval does not include 0, there is a statistically significant difference between the mean glucose levels of the two groups."
   ]
  },
  {
   "cell_type": "markdown",
   "metadata": {
    "id": "0-AXeb2rVNi2",
    "jp-MarkdownHeadingCollapsed": true
   },
   "source": [
    "# Exercise 3c. We want to study the proportion of the population with a basal glucose level above 95 mg/dL (prediabetes). Using the sample data (taking all data points), obtain a 98% confidence interval for this proportion and perform a hypothesis test to check whether the population proportion with glucose levels above 95 mg/dL is 0.15, using a 5% significance level."
   ]
  },
  {
   "cell_type": "markdown",
   "metadata": {
    "id": "dgyo1kmHNpDz"
   },
   "source": [
    "We will use a two-tailed test since we need to check whether the proportion is 0.15 or not:\n",
    "- H₀ (null hypothesis): p = 0.15\n",
    "- H₁ (alternative hypothesis): p ≠ 0.15"
   ]
  },
  {
   "cell_type": "code",
   "execution_count": 249,
   "metadata": {
    "cellView": "form",
    "id": "zAjrrYPESPac"
   },
   "outputs": [],
   "source": [
    "# @title\n",
    "def proportion_confidence_interval(population_proportion, threshold, group, alpha):\n",
    "    '''\n",
    "    Calculates the confidence interval for the sample proportion and performs\n",
    "    a two-sided hypothesis test to compare it with the given population proportion.\n",
    "\n",
    "    :param population_proportion: proportion under the null hypothesis (e.g. 0.15)\n",
    "    :param threshold: cutoff value to consider a high basal level (e.g. 95 mg/dL)\n",
    "    :param group: array or list with basal glucose level data\n",
    "    :param alpha: significance level (e.g. 0.05 for 95% confidence interval)\n",
    "    :return: confidence interval (lower bound, upper bound)\n",
    "    '''\n",
    "    \n",
    "    mean = group.mean()\n",
    "    std_dev = group.std()\n",
    "    n = len(group)\n",
    "\n",
    "    count_above_threshold = 0\n",
    "\n",
    "    for value in group:\n",
    "        if value > threshold:\n",
    "            # Count the number of values greater than the threshold\n",
    "            count_above_threshold += 1\n",
    "\n",
    "    z_crit = stats.norm.ppf(1 - alpha / 2)\n",
    "    sample_proportion = count_above_threshold / n\n",
    "    error = np.sqrt((sample_proportion * (1 - sample_proportion)) / n)\n",
    "\n",
    "    lower_bound = round(sample_proportion - z_crit * error, 4)\n",
    "    upper_bound = round(sample_proportion + z_crit * error, 4)\n",
    "\n",
    "    z_statistic = (sample_proportion - population_proportion) / np.sqrt((population_proportion * (1 - population_proportion) / n))\n",
    "    print(f\"Your proportion test statistic (Z) is {round(z_statistic, 2)}\")\n",
    "    print(f\"The critical Z value for the given significance level is {round(z_crit, 2)}\")\n",
    "\n",
    "    if abs(z_statistic) > z_crit:\n",
    "        print(\"Therefore, we reject H0\")\n",
    "    else:\n",
    "        print(\"Therefore, we do not reject H0\")\n",
    "\n",
    "    return lower_bound, upper_bound\n"
   ]
  },
  {
   "cell_type": "code",
   "execution_count": 250,
   "metadata": {
    "colab": {
     "base_uri": "https://localhost:8080/"
    },
    "id": "Cnw0QzXtTnLz",
    "outputId": "b94d23a7-00d0-4b4b-bdb4-e03d82b524c1"
   },
   "outputs": [
    {
     "name": "stdout",
     "output_type": "stream",
     "text": [
      "Your proportion test statistic (Z) is 0.43\n",
      "The critical Z value for the given significance level is 2.33\n",
      "Therefore, we do not reject H0\n",
      "The confidence interval for the proportion of the population with values greater than 95 mg/dL at a significance level of 0.02 is: (0.061, 0.2774)\n"
     ]
    }
   ],
   "source": [
    "# 98% CONFIDENCE INTERVAL for the proportion of the population with basal glucose level above 95 mg/dL\n",
    "# Enter the population proportion as a decimal (15% = 0.15)\n",
    "# The variable 'threshold' is the value at which we establish the hypothesis\n",
    "# 'alpha' is the significance level\n",
    "\n",
    "population_proportion = 0.15\n",
    "threshold = 95\n",
    "alpha = 0.02\n",
    "\n",
    "interval = proportion_confidence_interval(population_proportion, threshold, df[\"Fasting glucose level\"], alpha)\n",
    "print(f\"The confidence interval for the proportion of the population with values greater than {threshold} mg/dL at a significance level of {alpha} is: {interval}\")"
   ]
  },
  {
   "cell_type": "code",
   "execution_count": 251,
   "metadata": {
    "colab": {
     "base_uri": "https://localhost:8080/"
    },
    "id": "gXZZatIoTkyG",
    "outputId": "7982818d-f867-4da4-d9d4-b007908a4dc1"
   },
   "outputs": [
    {
     "name": "stdout",
     "output_type": "stream",
     "text": [
      "Your proportion test statistic (Z) is 0.43\n",
      "The critical Z value for the given significance level is 1.96\n",
      "Therefore, we do not reject H0\n",
      "The confidence interval for the proportion of the population with values greater than 95 mg/dL at a significance level of 0.05 is: (0.0781, 0.2604)\n"
     ]
    }
   ],
   "source": [
    "population_proportion = 0.15\n",
    "threshold = 95\n",
    "alpha = 0.05\n",
    "\n",
    "interval = proportion_confidence_interval(population_proportion, threshold, df[\"Fasting glucose level\"], alpha)\n",
    "print(f\"The confidence interval for the proportion of the population with values greater than {threshold} mg/dL at a significance level of {alpha} is: {interval}\")"
   ]
  },
  {
   "cell_type": "markdown",
   "metadata": {
    "id": "JL4b8Ux9UXmi"
   },
   "source": [
    "With a 95% confidence level, the value p = 0.15 lies within the confidence interval, which means there is not enough evidence to reject the null hypothesis stating that the true proportion is 15%."
   ]
  },
  {
   "cell_type": "markdown",
   "metadata": {
    "id": "KBZjuYFsVR5f"
   },
   "source": [
    "# Exercise 3d. Is there a significant change in blood glucose levels in the adult group after ingestion?"
   ]
  },
  {
   "cell_type": "markdown",
   "metadata": {
    "id": "Q_phD4E-eKht"
   },
   "source": [
    "#### *Note: The aim is to check whether, as the data suggest, blood glucose levels are different for adults at the time of ingestion and after 60 minutes. Therefore, to answer the question, you should consider the series of data obtained from the differences between the basal level and the glucose level after 60 minutes in the adult group (paired samples test). Formulate the corresponding hypothesis test considering a significance level of 5%.*"
   ]
  },
  {
   "cell_type": "markdown",
   "metadata": {
    "id": "m3lui2S5JhIk"
   },
   "source": [
    "For the test statistic, we will follow these guidelines:\n",
    "\n",
    "- Use \"t\" if the population standard deviation is unknown (and you only have the sample standard deviation).\n",
    "- Use \"z\" if the population standard deviation is known and/or if the sample size is very large (n > 30–40) and the distribution is approximately normal. In this case, we can use the Z-test as an approximation."
   ]
  },
  {
   "cell_type": "markdown",
   "metadata": {
    "id": "iHnW3W_PG9Sh"
   },
   "source": [
    "Since we are testing if there is a significant variation in any direction, we will use a two-tailed test (alpha/2).\n",
    "\n",
    "- H₀ (null hypothesis): μ_D = 0 (no significant variation)\n",
    "- H₁ (alternative hypothesis): μ_D ≠ 0 (there is a significant variation)\n"
   ]
  },
  {
   "cell_type": "code",
   "execution_count": 255,
   "metadata": {},
   "outputs": [],
   "source": [
    "# BILATERAL \"T\" TEST: This test is more precise because it accounts for degrees of freedom.\n",
    "# I added the option for the function to calculate the test statistic for either two-tailed or one-tailed tests.\n",
    "\n",
    "def paired_means_variation_t_test(group1, group2, alpha, test_type):\n",
    "    differences = group1 - group2\n",
    "\n",
    "    mean_diff = differences.mean()\n",
    "    std_diff = differences.std()\n",
    "    n = len(differences)\n",
    "    degrees_freedom = n - 1\n",
    "\n",
    "    if test_type == 1:  # Two-tailed test\n",
    "        t_crit = stats.t.ppf(1 - alpha/2, degrees_freedom)\n",
    "    else:  # One-tailed test\n",
    "        t_crit = stats.t.ppf(1 - alpha, degrees_freedom)\n",
    "\n",
    "    t_stat = mean_diff / (std_diff / np.sqrt(n))\n",
    "\n",
    "    print(f\"Your test statistic for the difference of means is {round(t_stat, 2)}\")\n",
    "    print(f\"The critical t value for the given significance level is {round(t_crit, 2)}\\n\")\n",
    "\n",
    "    if abs(t_stat) > t_crit:\n",
    "        print(\"Therefore, we reject H0 because your test statistic exceeds the critical value.\")\n",
    "    else:\n",
    "        print(\"Therefore, we fail to reject H0 because your test statistic does not exceed the critical value.\")\n",
    "\n",
    "    return\n",
    "\n",
    "# BILATERAL \"Z\" TEST: This test is less precise but simpler since degrees of freedom are not needed.\n",
    "# I added the option for the function to calculate the test statistic for either two-tailed or one-tailed tests.\n",
    "\n",
    "def paired_means_variation_z_test(group1, group2, alpha, test_type):\n",
    "    differences = group1 - group2\n",
    "\n",
    "    mean_diff = differences.mean()\n",
    "    std_diff = differences.std()\n",
    "    n = len(differences)\n",
    "\n",
    "    if test_type == 1:  # Two-tailed test\n",
    "        z_crit = stats.norm.ppf(1 - alpha/2)\n",
    "    else:  # One-tailed test\n",
    "        z_crit = stats.norm.ppf(1 - alpha)\n",
    "\n",
    "    z_stat = mean_diff / (std_diff / np.sqrt(n))\n",
    "\n",
    "    print(f\"Your test statistic for the difference of means is {round(z_stat, 2)}\")\n",
    "    print(f\"The critical Z value for the given significance level is {round(z_crit, 2)}\")\n",
    "\n",
    "    if abs(z_stat) > z_crit:\n",
    "        print(\"Therefore, we reject H0 because your test statistic exceeds the critical value.\")\n",
    "    else:\n",
    "        print(\"Therefore, we fail to reject H0 because your test statistic does not exceed the critical value.\")\n",
    "\n",
    "    return\n",
    "\n",
    "# TEST TYPE according to sample size: I created a function to decide which test to use depending on sample size.\n",
    "\n",
    "def paired_means_test(group1, group2, alpha, test_type):\n",
    "    differences = group1 - group2\n",
    "    n = len(differences)\n",
    "\n",
    "    print()\n",
    "\n",
    "    if n > 30:\n",
    "        print(f\"Since your sample size is greater than {n}, we will use the Z-test for a normal distribution.\")\n",
    "        paired_means_variation_z_test(group1, group2, alpha, test_type)\n",
    "    else:\n",
    "        print(f\"Since your sample size is {n} or less, we will use the Student's t-test.\")\n",
    "        paired_means_variation_t_test(group1, group2, alpha, test_type)\n",
    "\n",
    "    return"
   ]
  },
  {
   "cell_type": "code",
   "execution_count": 256,
   "metadata": {
    "colab": {
     "base_uri": "https://localhost:8080/"
    },
    "id": "oE-JyYO6MAlG",
    "outputId": "1942c913-957c-41b1-9300-0950411778be"
   },
   "outputs": [
    {
     "name": "stdin",
     "output_type": "stream",
     "text": [
      "Is your test two-tailed (1) or one-tailed (2)?  1\n",
      "What is the significance level (in decimals; for example 5% = 0.05)?  0.05\n"
     ]
    },
    {
     "name": "stdout",
     "output_type": "stream",
     "text": [
      "\n",
      "Since your sample size is 30 or less, we will use the Student's t-test.\n",
      "Your test statistic for the difference of means is 34.37\n",
      "The critical t value for the given significance level is 2.05\n",
      "\n",
      "Therefore, we reject H0 because your test statistic exceeds the critical value.\n"
     ]
    }
   ],
   "source": [
    "# @title\n",
    "test_type = int(input(\"Is your test two-tailed (1) or one-tailed (2)? \"))\n",
    "alpha = float(input(\"What is the significance level (in decimals; for example 5% = 0.05)? \"))\n",
    "\n",
    "paired_means_test(control_group2[\"Glucose level at 60 min\"], control_group2[\"Fasting glucose level\"], alpha, test_type)"
   ]
  },
  {
   "cell_type": "markdown",
   "metadata": {
    "id": "ZVhW75P8QfL0"
   },
   "source": [
    "After this, we see that we must reject the null hypothesis and accept that there may be a significant variation in blood glucose levels in the adult group (2) after glucose intake."
   ]
  }
 ],
 "metadata": {
  "colab": {
   "collapsed_sections": [
    "VET61wOaR2D5",
    "nSWOT2JhXxgT",
    "3XQVYpyJZqPC",
    "pXOYdiNfaxy4",
    "paPrEHaSbzoq",
    "-g7NNjqdc9XY",
    "Y2OxBymEVsMZ",
    "D20ncjmI2NLt",
    "rtanlyAGlZRN",
    "6kgs2pDhrVk8",
    "-RVdLZxPuUOx",
    "VXO5Uqv8vb8X",
    "25BRnS0OwT6B"
   ],
   "provenance": []
  },
  "kernelspec": {
   "display_name": "Python 3 (ipykernel)",
   "language": "python",
   "name": "python3"
  },
  "language_info": {
   "codemirror_mode": {
    "name": "ipython",
    "version": 3
   },
   "file_extension": ".py",
   "mimetype": "text/x-python",
   "name": "python",
   "nbconvert_exporter": "python",
   "pygments_lexer": "ipython3",
   "version": "3.11.11"
  }
 },
 "nbformat": 4,
 "nbformat_minor": 4
}
